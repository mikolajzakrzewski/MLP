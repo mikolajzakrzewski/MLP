{
 "cells": [
  {
   "metadata": {},
   "cell_type": "markdown",
   "source": "#### Initialize",
   "id": "acb32bd89b6d1cfe"
  },
  {
   "metadata": {},
   "cell_type": "code",
   "source": [
    "import pandas as pd\n",
    "pd.set_option('display.max_rows', None)"
   ],
   "id": "a9e113afe890e9be",
   "outputs": [],
   "execution_count": null
  },
  {
   "metadata": {},
   "cell_type": "markdown",
   "source": "### Display weights",
   "id": "630736b7cc13375b"
  },
  {
   "metadata": {},
   "cell_type": "code",
   "source": [
    "df = pd.read_csv('stats/weights.csv')\n",
    "display(df)"
   ],
   "id": "91e9d70ebe8618e4",
   "outputs": [],
   "execution_count": null
  },
  {
   "metadata": {},
   "cell_type": "markdown",
   "source": "### Display biases",
   "id": "e43f1932dbefe4a5"
  },
  {
   "metadata": {},
   "cell_type": "code",
   "source": [
    "df = pd.read_csv('stats/biases.csv')\n",
    "display(df)"
   ],
   "id": "5fb9604e87c63a0f",
   "outputs": [],
   "execution_count": null
  },
  {
   "metadata": {},
   "cell_type": "markdown",
   "source": "### Display outputs",
   "id": "66941bf10e8b3924"
  },
  {
   "metadata": {},
   "cell_type": "code",
   "source": [
    "df = pd.read_csv('stats/outputs.csv')\n",
    "display(df)"
   ],
   "id": "442d2e4bf09d2f92",
   "outputs": [],
   "execution_count": null
  },
  {
   "metadata": {},
   "cell_type": "markdown",
   "source": "### Display error signals",
   "id": "efb67632ff840169"
  },
  {
   "metadata": {},
   "cell_type": "code",
   "source": [
    "df = pd.read_csv('stats/error_signals.csv', dtype=str)\n",
    "display(df)"
   ],
   "id": "3a3faeb49299b906",
   "outputs": [],
   "execution_count": null
  },
  {
   "metadata": {},
   "cell_type": "markdown",
   "source": "### Display loss",
   "id": "c26eb86f9f386c70"
  },
  {
   "metadata": {},
   "cell_type": "code",
   "source": [
    "df = pd.read_csv('stats/loss.csv')\n",
    "display(df)"
   ],
   "id": "ec4a6a28f83a28d8",
   "outputs": [],
   "execution_count": null
  },
  {
   "metadata": {},
   "cell_type": "markdown",
   "source": "### Display input layer inputs, output layer outputs and expected output layer outputs",
   "id": "c59be865fce5b3fb"
  },
  {
   "metadata": {},
   "cell_type": "code",
   "source": [
    "df = pd.read_csv('stats/inputs_outputs_expected_outputs.csv')\n",
    "display(df)"
   ],
   "id": "2d4750016e7ddc57",
   "outputs": [],
   "execution_count": null
  },
  {
   "metadata": {},
   "cell_type": "markdown",
   "source": "#### Cleanup",
   "id": "fdf79cef4f41d611"
  },
  {
   "metadata": {},
   "cell_type": "code",
   "source": "pd.reset_option('display.max_rows')",
   "id": "36c8584716d48c9e",
   "outputs": [],
   "execution_count": null
  }
 ],
 "metadata": {
  "kernelspec": {
   "display_name": "Python 3",
   "language": "python",
   "name": "python3"
  },
  "language_info": {
   "codemirror_mode": {
    "name": "ipython",
    "version": 2
   },
   "file_extension": ".py",
   "mimetype": "text/x-python",
   "name": "python",
   "nbconvert_exporter": "python",
   "pygments_lexer": "ipython2",
   "version": "2.7.6"
  }
 },
 "nbformat": 4,
 "nbformat_minor": 5
}
